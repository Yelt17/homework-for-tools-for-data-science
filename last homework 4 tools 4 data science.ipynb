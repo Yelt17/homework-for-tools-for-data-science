{
 "cells": [
  {
   "cell_type": "markdown",
   "id": "461af490",
   "metadata": {},
   "source": [
    "# My first Jupyter notebook "
   ]
  },
  {
   "cell_type": "markdown",
   "id": "32c04f06",
   "metadata": {},
   "source": [
    "##### Yeltsin Alvarado\n",
    "###### Industrial Engeenier\n"
   ]
  },
  {
   "cell_type": "markdown",
   "id": "8ffb8935",
   "metadata": {},
   "source": [
    "\n",
    " _im insterested in data science because i think that i can use data at industry for take better performance when we use the material to make products and i want to see what is te behavior of the market no matter what industry at least_.\n"
   ]
  },
  {
   "cell_type": "markdown",
   "id": "162d08b7",
   "metadata": {},
   "source": [
    "### My code will show a  \"Hello World\" as a output"
   ]
  },
  {
   "cell_type": "code",
   "execution_count": 2,
   "id": "afd21030",
   "metadata": {},
   "outputs": [
    {
     "name": "stdout",
     "output_type": "stream",
     "text": [
      "Hello wolrd\n"
     ]
    }
   ],
   "source": [
    "print (\"Hello wolrd\")"
   ]
  },
  {
   "cell_type": "markdown",
   "id": "6d015ce1",
   "metadata": {},
   "source": [
    "1. make dinner\n",
    "2. buy eggs\n",
    "3. unordered list\n",
    "\n",
    "* milk\n",
    "- soda\n",
    "+ cookies"
   ]
  },
  {
   "cell_type": "markdown",
   "id": "0e06b143",
   "metadata": {},
   "source": [
    "[I'm an inline-style link](https://www.google.com)"
   ]
  },
  {
   "cell_type": "markdown",
   "id": "e8036642",
   "metadata": {},
   "source": [
    "Inline `code` has `back-ticks around` it."
   ]
  },
  {
   "cell_type": "markdown",
   "id": "2979e611",
   "metadata": {},
   "source": [
    "Colons can be used to align columns.\n",
    "\n",
    "| Tables        | Are           | Cool  |\n",
    "| ------------- |:-------------:| -----:|\n",
    "| col 3 is      | right-aligned | $1600 |\n",
    "| col 2 is      | centered      |   $12 |\n",
    "| zebra stripes | are neat      |    $1 |\n",
    "\n",
    "There must be at least 3 dashes separating each header cell.\n",
    "The outer pipes (|) are optional, and you don't need to make the \n",
    "raw Markdown line up prettily. You can also use inline Markdown.\n",
    "\n",
    "Markdown | Less | Pretty\n",
    "--- | --- | ---\n",
    "*Still* | `renders` | **nicely**\n",
    "1 | 2 | 3"
   ]
  },
  {
   "cell_type": "markdown",
   "id": "1e9c3a5b",
   "metadata": {},
   "source": []
  }
 ],
 "metadata": {
  "kernelspec": {
   "display_name": "Python 3 (ipykernel)",
   "language": "python",
   "name": "python3"
  },
  "language_info": {
   "codemirror_mode": {
    "name": "ipython",
    "version": 3
   },
   "file_extension": ".py",
   "mimetype": "text/x-python",
   "name": "python",
   "nbconvert_exporter": "python",
   "pygments_lexer": "ipython3",
   "version": "3.9.7"
  }
 },
 "nbformat": 4,
 "nbformat_minor": 5
}
